{
 "cells": [
  {
   "cell_type": "markdown",
   "id": "7713cfd4-52fb-4370-a7d7-411c66788752",
   "metadata": {},
   "source": [
    "# Q1 create 2 lists from a given list where\n",
    "# 1st list will contain all the odd numbers from the original list and \n",
    "# the 2nd one will contain all the even numbers\n",
    "# l=[1,2,3,4,5,6]"
   ]
  },
  {
   "cell_type": "code",
   "execution_count": 7,
   "id": "aaf5d1f3-8aa4-4cfe-a360-d241a29be6a2",
   "metadata": {},
   "outputs": [
    {
     "name": "stdout",
     "output_type": "stream",
     "text": [
      "list of odd numbers: [2, 4, 6]\n",
      "list of even numbers: [2, 4, 6]\n"
     ]
    }
   ],
   "source": [
    "l=[1,2,3,4,5,6]\n",
    "odds = []\n",
    "evens = []\n",
    "for num in l:\n",
    "     if num % 2 == 0:\n",
    "        evens.append(num)\n",
    "        odds.append(num)\n",
    "print(\"list of odd numbers:\", odds)\n",
    "print(\"list of even numbers:\", evens)"
   ]
  },
  {
   "cell_type": "markdown",
   "id": "97f07bff-3f8a-4b66-b196-84dd9e044d14",
   "metadata": {},
   "source": [
    "# Q2.How to take list as input from user"
   ]
  },
  {
   "cell_type": "code",
   "execution_count": 2,
   "id": "4cc1d02c-a90a-4600-a80f-b450a3b7434d",
   "metadata": {},
   "outputs": [
    {
     "name": "stdin",
     "output_type": "stream",
     "text": [
      "1,2,3,4,5 1,2,3,4,5\n"
     ]
    },
    {
     "name": "stdout",
     "output_type": "stream",
     "text": [
      "user input list: ['1,2,3,4,5']\n"
     ]
    }
   ],
   "source": [
    "input_str=input(\"1,2,3,4,5\")\n",
    "user_list=input_str.split()\n",
    "print(\"user input list:\",user_list)"
   ]
  },
  {
   "cell_type": "markdown",
   "id": "16845c00-7c4c-4a54-8c1e-e507e8b9458e",
   "metadata": {},
   "source": [
    "# Q3.write a program to merge 2 list without using the + opeator\n",
    "# l1 = [1,2,3,4]\n",
    "# l2 = [5,6,7,8]"
   ]
  },
  {
   "cell_type": "code",
   "execution_count": 3,
   "id": "c59b0d9f-1de4-4994-99e6-75a7d23f3956",
   "metadata": {},
   "outputs": [
    {
     "name": "stdout",
     "output_type": "stream",
     "text": [
      "merge list: [1, 2, 3, 4, 5, 6, 7, 8]\n"
     ]
    }
   ],
   "source": [
    "l1=[1,2,3,4]\n",
    "l2=[5,6,7,8]\n",
    "l1.extend(l2)\n",
    "print(\"merge list:\",l1)"
   ]
  },
  {
   "cell_type": "markdown",
   "id": "f8c921c5-7a9d-44fa-b761-60ef5c9aa3f0",
   "metadata": {},
   "source": [
    "# Q4 write a program to replace an item with a diffeent item in the list\n",
    "# l=[1,2,3,5,3]\n",
    "# replace 3 with 100"
   ]
  },
  {
   "cell_type": "code",
   "execution_count": 5,
   "id": "289bd3f6-38c5-4651-9f95-e3c4b9e2d4f5",
   "metadata": {},
   "outputs": [
    {
     "name": "stdout",
     "output_type": "stream",
     "text": [
      "modified list: [1, 2, 100, 4, 5, 3]\n",
      "modified list: [1, 2, 100, 4, 5, 100]\n"
     ]
    }
   ],
   "source": [
    "l=[1,2,3,4,5,3]\n",
    "item_to_replace=3\n",
    "replacement_item=100\n",
    "for i in range(len(l)):\n",
    "           if l[i]==item_to_replace:\n",
    "               l[i]=replacement_item\n",
    "               print(\"modified list:\",l)"
   ]
  },
  {
   "cell_type": "markdown",
   "id": "ad1ee5be-b068-497a-92ce-8918915e729d",
   "metadata": {},
   "source": [
    "# Q5 write a program that can convert a 2D list to 1D list"
   ]
  },
  {
   "cell_type": "code",
   "execution_count": 6,
   "id": "0d0fb0dd-dfcf-49e4-a8ee-6bfd1718c538",
   "metadata": {},
   "outputs": [
    {
     "name": "stdout",
     "output_type": "stream",
     "text": [
      "[1, 2, 3, 4, 5, 6, 7, 8, 9]\n"
     ]
    }
   ],
   "source": [
    "def flatten_2d_list(input_list):\n",
    "    return [item for sublist in input_list for item in sublist]\n",
    "two_d_list =[[1,2,3],[4,5],[6,7,8,9]]\n",
    "one_d_list =flatten_2d_list(two_d_list)\n",
    "print(one_d_list)"
   ]
  },
  {
   "cell_type": "markdown",
   "id": "6012ec2b-b705-4104-a70d-909f3267836c",
   "metadata": {},
   "source": [
    "# Q6 write a pogram to remove duplicate items a list\n",
    "# l=[1,2,1,2,3,4,5,3,4]"
   ]
  },
  {
   "cell_type": "code",
   "execution_count": 7,
   "id": "4f343486-02a7-4049-b328-020bf9334fab",
   "metadata": {},
   "outputs": [
    {
     "name": "stdout",
     "output_type": "stream",
     "text": [
      "list with duplicates removed: [1, 2, 3, 4, 5]\n"
     ]
    }
   ],
   "source": [
    "l=[1,2,1,2,3,4,5,3,4]\n",
    "l=list(set(l))\n",
    "print(\"list with duplicates removed:\",l)"
   ]
  },
  {
   "cell_type": "markdown",
   "id": "df97c837-42f6-445d-b2c0-9003ed1b3519",
   "metadata": {},
   "source": [
    "# Q7. write a program to check if a list is in ascending orde or not\n"
   ]
  },
  {
   "cell_type": "code",
   "execution_count": 8,
   "id": "b7f55c89-51bf-46f8-b9bd-a4a454aa004e",
   "metadata": {},
   "outputs": [
    {
     "name": "stdout",
     "output_type": "stream",
     "text": [
      "True\n",
      "True\n",
      "False\n"
     ]
    }
   ],
   "source": [
    "def ascending(lst):\n",
    "    return all(lst[i]<=lst[i+1] for\n",
    "i in range(len(lst)-1))\n",
    "list1=[1,2,3,4,5]\n",
    "list2=[1,2,3,4,5]\n",
    "list3=[5,4,3,2,1]\n",
    "print(ascending(list1))\n",
    "print(ascending(list2))\n",
    "print(ascending(list3))"
   ]
  },
  {
   "cell_type": "code",
   "execution_count": null,
   "id": "d34d420a-3538-47d4-9ecb-a0c322bea23e",
   "metadata": {},
   "outputs": [],
   "source": []
  }
 ],
 "metadata": {
  "kernelspec": {
   "display_name": "Python 3 (ipykernel)",
   "language": "python",
   "name": "python3"
  },
  "language_info": {
   "codemirror_mode": {
    "name": "ipython",
    "version": 3
   },
   "file_extension": ".py",
   "mimetype": "text/x-python",
   "name": "python",
   "nbconvert_exporter": "python",
   "pygments_lexer": "ipython3",
   "version": "3.11.7"
  }
 },
 "nbformat": 4,
 "nbformat_minor": 5
}
